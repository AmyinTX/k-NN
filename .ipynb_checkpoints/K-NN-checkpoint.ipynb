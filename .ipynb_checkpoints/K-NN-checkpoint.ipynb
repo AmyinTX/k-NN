{
 "cells": [
  {
   "cell_type": "code",
   "execution_count": 4,
   "metadata": {
    "collapsed": false
   },
   "outputs": [],
   "source": [
    "#%% packages\n",
    "import pandas as pd\n",
    "import matplotlib.pyplot as plt\n",
    "% matplotlib inline\n",
    "import math\n",
    "from sklearn import neighbors\n",
    "from sklearn.metrics.pairwise import euclidean_distances\n",
    "import numpy as np\n",
    "from sklearn.cross_validation import train_test_split"
   ]
  },
  {
   "cell_type": "code",
   "execution_count": 5,
   "metadata": {
    "collapsed": true
   },
   "outputs": [],
   "source": [
    "#%% data\n",
    "iris_df = pd.read_table('/Users/amybrown/Thinkful/Unit_4/Lesson_3/curric-data-001-data-sets/iris/iris.data.csv', sep=',', \n",
    "                        names=('sepal_length', 'sepal_width', 'petal_length', 'petal_width', 'class'))"
   ]
  },
  {
   "cell_type": "code",
   "execution_count": 13,
   "metadata": {
    "collapsed": false
   },
   "outputs": [
    {
     "data": {
      "image/png": "[encoded data removed]",
      "text/plain": [
       "<matplotlib.figure.Figure at 0x119cf38d0>"
      ]
     },
     "metadata": {},
     "output_type": "display_data"
    }
   ],
   "source": [
    "#%% plot sepal length by sepal width\n",
    "plt.scatter(iris_df['sepal_length'], iris_df['sepal_width'])\n",
    "plt.axis(\"equal\")\n",
    "plt.title(\"Sepal Length by Sepal Width\")\n",
    "plt.xlabel('Sepal Length')\n",
    "plt.ylabel('Sepal Width')\n",
    "plt.show()"
   ]
  },
  {
   "cell_type": "markdown",
   "metadata": {},
   "source": [
    "### The first part of this assignment asks us to plot sepal length by width from the Iris dataset. Then pick a point at random and calculate the distance from each observation to that point. Then, subset the 10 nearest points and determine the majority class from them. "
   ]
  },
  {
   "cell_type": "code",
   "execution_count": 14,
   "metadata": {
    "collapsed": true
   },
   "outputs": [],
   "source": [
    "# pick a new point at random\n",
    "sepal_df = iris_df[['sepal_length', 'sepal_width']]\n",
    "#obs = sepal_df.sample(n=1) when I did this it resulted in point 108, not sure how to save that result"
   ]
  },
  {
   "cell_type": "code",
   "execution_count": 15,
   "metadata": {
    "collapsed": true
   },
   "outputs": [],
   "source": [
    "# sort each point by distance to random point and subset 10 nearest points\n",
    "sepal_list = sepal_df.values.tolist()\n",
    "distances = euclidean_distances(sepal_list, [[6.7, 2.5]]) # this is the location of the randomly selected point"
   ]
  },
  {
   "cell_type": "code",
   "execution_count": 17,
   "metadata": {
    "collapsed": true
   },
   "outputs": [],
   "source": [
    "# create final dataset that includes distance variable\n",
    "d  = distances.reshape((150,1))\n",
    "d2 = pd.DataFrame(data=d, columns=['distance'])\n",
    "final = pd.concat([iris_df, d2], axis=1)\n",
    "final = final.sort_values(by='distance')"
   ]
  },
  {
   "cell_type": "code",
   "execution_count": 20,
   "metadata": {
    "collapsed": false
   },
   "outputs": [
    {
     "name": "stdout",
     "output_type": "stream",
     "text": [
      "     sepal_length  sepal_width  petal_length  petal_width            class  \\\n",
      "76            6.8          2.8           4.8          1.4  Iris-versicolor   \n",
      "54            6.5          2.8           4.6          1.5  Iris-versicolor   \n",
      "111           6.4          2.7           5.3          1.9   Iris-virginica   \n",
      "146           6.3          2.5           5.0          1.9   Iris-virginica   \n",
      "72            6.3          2.5           4.9          1.5  Iris-versicolor   \n",
      "58            6.6          2.9           4.6          1.3  Iris-versicolor   \n",
      "128           6.4          2.8           5.6          2.1   Iris-virginica   \n",
      "132           6.4          2.8           5.6          2.2   Iris-virginica   \n",
      "87            6.3          2.3           4.4          1.3  Iris-versicolor   \n",
      "123           6.3          2.7           4.9          1.8   Iris-virginica   \n",
      "\n",
      "     distance  \n",
      "76   0.316228  \n",
      "54   0.360555  \n",
      "111  0.360555  \n",
      "146  0.400000  \n",
      "72   0.400000  \n",
      "58   0.412311  \n",
      "128  0.424264  \n",
      "132  0.424264  \n",
      "87   0.447214  \n",
      "123  0.447214  \n"
     ]
    }
   ],
   "source": [
    "# subset top 10 points (excluding first point, which is the randomly selected observation)\n",
    "top10 = final[1:11]\n",
    "print(top10)"
   ]
  },
  {
   "cell_type": "markdown",
   "metadata": {},
   "source": [
    "### There is a tie amongst the top 10 observations for the class distinction of either versicolor or virginica. The majority class is contingent on the size k. So, a k of 3 would result in a majority class of versicolor. "
   ]
  },
  {
   "cell_type": "markdown",
   "metadata": {},
   "source": [
    "### The next portion of the assignment asks to generate a knn model and output the results. "
   ]
  },
  {
   "cell_type": "code",
   "execution_count": 21,
   "metadata": {
    "collapsed": true
   },
   "outputs": [],
   "source": [
    "X = np.array(iris_df.ix[:, 0:4])\n",
    "y = np.array(iris_df['class']) "
   ]
  },
  {
   "cell_type": "code",
   "execution_count": 22,
   "metadata": {
    "collapsed": true
   },
   "outputs": [],
   "source": [
    "# split into test and training data\n",
    "X_train, X_test, y_train, y_test = train_test_split(X, y, test_size=0.33, random_state=42)"
   ]
  },
  {
   "cell_type": "code",
   "execution_count": 23,
   "metadata": {
    "collapsed": true
   },
   "outputs": [],
   "source": [
    "from sklearn.neighbors import KNeighborsClassifier\n",
    "from sklearn.metrics import accuracy_score"
   ]
  },
  {
   "cell_type": "code",
   "execution_count": 26,
   "metadata": {
    "collapsed": false
   },
   "outputs": [
    {
     "data": {
      "text/plain": [
       "KNeighborsClassifier(algorithm='auto', leaf_size=30, metric='minkowski',\n",
       "           metric_params=None, n_jobs=1, n_neighbors=3, p=2,\n",
       "           weights='uniform')"
      ]
     },
     "execution_count": 26,
     "metadata": {},
     "output_type": "execute_result"
    }
   ],
   "source": [
    "# define model\n",
    "knn = KNeighborsClassifier(n_neighbors=3)\n",
    "# fitting the model\n",
    "knn.fit(X_train, y_train)"
   ]
  },
  {
   "cell_type": "code",
   "execution_count": 27,
   "metadata": {
    "collapsed": true
   },
   "outputs": [],
   "source": [
    "# predict the response\n",
    "pred = knn.predict(X_test)"
   ]
  },
  {
   "cell_type": "code",
   "execution_count": 28,
   "metadata": {
    "collapsed": false
   },
   "outputs": [
    {
     "name": "stdout",
     "output_type": "stream",
     "text": [
      "0.98\n"
     ]
    }
   ],
   "source": [
    "# evaluate accuracy\n",
    "print(accuracy_score(y_test, pred))"
   ]
  }
 ],
 "metadata": {
  "kernelspec": {
   "display_name": "Python [Root]",
   "language": "python",
   "name": "Python [Root]"
  },
  "language_info": {
   "codemirror_mode": {
    "name": "ipython",
    "version": 3
   },
   "file_extension": ".py",
   "mimetype": "text/x-python",
   "name": "python",
   "nbconvert_exporter": "python",
   "pygments_lexer": "ipython3",
   "version": "3.5.2"
  }
 },
 "nbformat": 4,
 "nbformat_minor": 0
}
